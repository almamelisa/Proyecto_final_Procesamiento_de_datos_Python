{
  "nbformat": 4,
  "nbformat_minor": 0,
  "metadata": {
    "colab": {
      "name": "proyecto_final_modulo_3.ipynb",
      "provenance": [],
      "collapsed_sections": [],
      "include_colab_link": true
    },
    "kernelspec": {
      "name": "python3",
      "display_name": "Python 3"
    },
    "language_info": {
      "name": "python"
    }
  },
  "cells": [
    {
      "cell_type": "markdown",
      "metadata": {
        "id": "view-in-github",
        "colab_type": "text"
      },
      "source": [
        "<a href=\"https://colab.research.google.com/github/almamelisa/Proyecto_final_Procesamiento_de_datos_Python/blob/main/proyecto_final_modulo_3.ipynb\" target=\"_parent\"><img src=\"https://colab.research.google.com/assets/colab-badge.svg\" alt=\"Open In Colab\"/></a>"
      ]
    },
    {
      "cell_type": "markdown",
      "metadata": {
        "id": "dH-7ptg5Nfjr"
      },
      "source": [
        "##**Mortalidad Materna en México en el periodo 2003 - 2019**\n",
        "\n",
        "De acuerdo con la OMS una muerte materna “es la muerte de una mujer mientras que está embarazada o dentro de los 42 días de haber terminado un embarazo, independientemente de la duración y la localización del embarazo, por cualquier causa vinculada o agravada por el embarazo o su manejo, pero no por causas accidentales o incidentales y en consecuencia, constituye un importante indicador del nivel de desarrollo de un país y de la capacidad resolutiva de su sistema de salud”.\n",
        "\n",
        "Objetivo general: Analizar la relación entre la Causas de mortalidad con la asistencia médica, edad, estado de residencia y ocupación de las pacientes.\n",
        "\n"
      ]
    },
    {
      "cell_type": "code",
      "metadata": {
        "id": "CEhBFYkc1DVF"
      },
      "source": [
        "#Importar librería pandas\n",
        "\n",
        "import pandas as pd"
      ],
      "execution_count": 2,
      "outputs": []
    },
    {
      "cell_type": "code",
      "metadata": {
        "id": "6b2gWYf4FIHr"
      },
      "source": [
        "url = 'https://raw.githubusercontent.com/almamelisa/Proyecto_final_Procesamiento_de_datos_Python/main/Defunciones.csv'\n",
        "df = pd.read_csv(url, sep=\";\")\n"
      ],
      "execution_count": 9,
      "outputs": []
    },
    {
      "cell_type": "code",
      "metadata": {
        "id": "SKo9HhNeHV1i",
        "outputId": "d60163e1-7cb0-4287-9bd4-ff190cf3164f",
        "colab": {
          "base_uri": "https://localhost:8080/",
          "height": 864
        }
      },
      "source": [
        "df"
      ],
      "execution_count": 12,
      "outputs": [
        {
          "output_type": "execute_result",
          "data": {
            "text/html": [
              "<div>\n",
              "<style scoped>\n",
              "    .dataframe tbody tr th:only-of-type {\n",
              "        vertical-align: middle;\n",
              "    }\n",
              "\n",
              "    .dataframe tbody tr th {\n",
              "        vertical-align: top;\n",
              "    }\n",
              "\n",
              "    .dataframe thead th {\n",
              "        text-align: right;\n",
              "    }\n",
              "</style>\n",
              "<table border=\"1\" class=\"dataframe\">\n",
              "  <thead>\n",
              "    <tr style=\"text-align: right;\">\n",
              "      <th></th>\n",
              "      <th>IdPaciente</th>\n",
              "      <th>IdEntidadOcurrencia</th>\n",
              "      <th>EntidadOcurrencia</th>\n",
              "      <th>IdMunicipioOcurrencia</th>\n",
              "      <th>MunicipioOcurrencia</th>\n",
              "      <th>IdLocalidadOcurrencia</th>\n",
              "      <th>LocalidadOcurrencia</th>\n",
              "      <th>IdSitioDefuncion</th>\n",
              "      <th>SitioDefuncion</th>\n",
              "      <th>AñoDefuncion</th>\n",
              "      <th>IdMesDefuncion</th>\n",
              "      <th>MesDefuncion</th>\n",
              "      <th>DiaDefuncion</th>\n",
              "      <th>HoraDefuncion</th>\n",
              "      <th>MinutosDefuncion</th>\n",
              "      <th>IdAsistenciaMedica</th>\n",
              "      <th>AsistenciaMedica</th>\n",
              "      <th>IdCausaCIE</th>\n",
              "      <th>CausaCIE</th>\n",
              "      <th>IdCertifico</th>\n",
              "      <th>Certifico</th>\n",
              "      <th>IdEntidadDeRegistro</th>\n",
              "      <th>EntidadDeRegistro</th>\n",
              "      <th>IdMunicipioRegistro</th>\n",
              "      <th>MunicipioRegistro</th>\n",
              "      <th>AñoRegistro</th>\n",
              "      <th>IdMesRegistro</th>\n",
              "      <th>MesRegistro</th>\n",
              "      <th>IdDiaRegistro</th>\n",
              "      <th>AñoCertificacion</th>\n",
              "      <th>IdMesCertificacion</th>\n",
              "      <th>MesCertificacion</th>\n",
              "      <th>DiaCertificacion</th>\n",
              "      <th>AñoBaseDeDatos</th>\n",
              "      <th>IdRazonMortalidadMaterna</th>\n",
              "      <th>RazonMortalidadMaterna</th>\n",
              "    </tr>\n",
              "  </thead>\n",
              "  <tbody>\n",
              "    <tr>\n",
              "      <th>0</th>\n",
              "      <td>1</td>\n",
              "      <td>28</td>\n",
              "      <td>TAMAULIPAS</td>\n",
              "      <td>38</td>\n",
              "      <td>TAMPICO</td>\n",
              "      <td>1</td>\n",
              "      <td>TAMPICO</td>\n",
              "      <td>1</td>\n",
              "      <td>SECRETARIA DE SALUD</td>\n",
              "      <td>2012</td>\n",
              "      <td>5</td>\n",
              "      <td>MAYO</td>\n",
              "      <td>20</td>\n",
              "      <td>8</td>\n",
              "      <td>10</td>\n",
              "      <td>1</td>\n",
              "      <td>CON ATENCION MEDICA</td>\n",
              "      <td>C58X</td>\n",
              "      <td>C58X  TUMOR MALIGNO DE LA PLACENTA</td>\n",
              "      <td>3</td>\n",
              "      <td>OTRO MEDICO</td>\n",
              "      <td>28</td>\n",
              "      <td>TAMAULIPAS</td>\n",
              "      <td>38</td>\n",
              "      <td>TAMPICO</td>\n",
              "      <td>2012</td>\n",
              "      <td>5</td>\n",
              "      <td>MAYO</td>\n",
              "      <td>23</td>\n",
              "      <td>2012</td>\n",
              "      <td>5</td>\n",
              "      <td>MAYO</td>\n",
              "      <td>20</td>\n",
              "      <td>2012</td>\n",
              "      <td>0</td>\n",
              "      <td>MUERTES MATERNAS EXCLUIDAS PARA LA RAZON DE MO...</td>\n",
              "    </tr>\n",
              "    <tr>\n",
              "      <th>1</th>\n",
              "      <td>2</td>\n",
              "      <td>7</td>\n",
              "      <td>CHIAPAS</td>\n",
              "      <td>89</td>\n",
              "      <td>TAPACHULA</td>\n",
              "      <td>1</td>\n",
              "      <td>TAPACHULA DE CORDOVA Y ORDONEZ</td>\n",
              "      <td>1</td>\n",
              "      <td>SECRETARIA DE SALUD</td>\n",
              "      <td>2018</td>\n",
              "      <td>5</td>\n",
              "      <td>MAYO</td>\n",
              "      <td>25</td>\n",
              "      <td>21</td>\n",
              "      <td>5</td>\n",
              "      <td>1</td>\n",
              "      <td>CON ATENCION MEDICA</td>\n",
              "      <td>O985</td>\n",
              "      <td>O985  OTRAS ENFERMEDADES VIRALES QUE COMPLICAN...</td>\n",
              "      <td>3</td>\n",
              "      <td>OTRO MEDICO</td>\n",
              "      <td>7</td>\n",
              "      <td>CHIAPAS</td>\n",
              "      <td>89</td>\n",
              "      <td>TAPACHULA</td>\n",
              "      <td>2018</td>\n",
              "      <td>5</td>\n",
              "      <td>MAYO</td>\n",
              "      <td>26</td>\n",
              "      <td>2018</td>\n",
              "      <td>5</td>\n",
              "      <td>MAYO</td>\n",
              "      <td>25</td>\n",
              "      <td>2018</td>\n",
              "      <td>1</td>\n",
              "      <td>MUERTES MATERNAS PARA LA RAZON DE MORTALIDAD M...</td>\n",
              "    </tr>\n",
              "    <tr>\n",
              "      <th>2</th>\n",
              "      <td>3</td>\n",
              "      <td>7</td>\n",
              "      <td>CHIAPAS</td>\n",
              "      <td>89</td>\n",
              "      <td>9 TAPACHULA</td>\n",
              "      <td>1</td>\n",
              "      <td>TAPACHULA DE CORDOVA Y ORDONEZ</td>\n",
              "      <td>1</td>\n",
              "      <td>SECRETARIA DE SALUD</td>\n",
              "      <td>2019</td>\n",
              "      <td>6</td>\n",
              "      <td>JUNIO</td>\n",
              "      <td>1</td>\n",
              "      <td>10</td>\n",
              "      <td>45</td>\n",
              "      <td>1</td>\n",
              "      <td>CON ATENCION MEDICA</td>\n",
              "      <td>O998</td>\n",
              "      <td>O998  OTRAS ENFERMEDADES ESPECIFICADAS Y AFECC...</td>\n",
              "      <td>3</td>\n",
              "      <td>OTRO MEDICO</td>\n",
              "      <td>7</td>\n",
              "      <td>CHIAPAS</td>\n",
              "      <td>102</td>\n",
              "      <td>2 TUXTLA CHICO</td>\n",
              "      <td>2019</td>\n",
              "      <td>6</td>\n",
              "      <td>JUNIO</td>\n",
              "      <td>1</td>\n",
              "      <td>2019</td>\n",
              "      <td>6</td>\n",
              "      <td>JUNIO</td>\n",
              "      <td>1</td>\n",
              "      <td>2019</td>\n",
              "      <td>1</td>\n",
              "      <td>MUERTES MATERNAS PARA LA RAZON DE MORTALIDAD M...</td>\n",
              "    </tr>\n",
              "    <tr>\n",
              "      <th>3</th>\n",
              "      <td>4</td>\n",
              "      <td>7</td>\n",
              "      <td>CHIAPAS</td>\n",
              "      <td>4</td>\n",
              "      <td>ALTAMIRANO</td>\n",
              "      <td>1</td>\n",
              "      <td>ALTAMIRANO</td>\n",
              "      <td>2</td>\n",
              "      <td>IMSS OPORTUNIDADES</td>\n",
              "      <td>2016</td>\n",
              "      <td>10</td>\n",
              "      <td>OCTUBRE</td>\n",
              "      <td>10</td>\n",
              "      <td>23</td>\n",
              "      <td>55</td>\n",
              "      <td>1</td>\n",
              "      <td>CON ATENCION MEDICA</td>\n",
              "      <td>O010</td>\n",
              "      <td>O010  MOLA HIDATIFORME CLASICA</td>\n",
              "      <td>3</td>\n",
              "      <td>OTRO MEDICO</td>\n",
              "      <td>7</td>\n",
              "      <td>CHIAPAS</td>\n",
              "      <td>4</td>\n",
              "      <td>ALTAMIRANO</td>\n",
              "      <td>2016</td>\n",
              "      <td>10</td>\n",
              "      <td>OCTUBRE</td>\n",
              "      <td>11</td>\n",
              "      <td>2016</td>\n",
              "      <td>10</td>\n",
              "      <td>OCTUBRE</td>\n",
              "      <td>11</td>\n",
              "      <td>2016</td>\n",
              "      <td>1</td>\n",
              "      <td>MUERTES MATERNAS PARA LA RAZON DE MORTALIDAD M...</td>\n",
              "    </tr>\n",
              "    <tr>\n",
              "      <th>4</th>\n",
              "      <td>5</td>\n",
              "      <td>5</td>\n",
              "      <td>COAHUILA DE ZARAGOZA</td>\n",
              "      <td>18</td>\n",
              "      <td>MONCLOVA</td>\n",
              "      <td>1</td>\n",
              "      <td>MONCLOVA</td>\n",
              "      <td>1</td>\n",
              "      <td>SECRETARIA DE SALUD</td>\n",
              "      <td>2013</td>\n",
              "      <td>11</td>\n",
              "      <td>NOVIEMBRE</td>\n",
              "      <td>9</td>\n",
              "      <td>14</td>\n",
              "      <td>55</td>\n",
              "      <td>1</td>\n",
              "      <td>CON ATENCION MEDICA</td>\n",
              "      <td>O152</td>\n",
              "      <td>O152  ECLAMPSIA EN EL PUERPERIO</td>\n",
              "      <td>1</td>\n",
              "      <td>MEDICO TRATANTE</td>\n",
              "      <td>5</td>\n",
              "      <td>COAHUILA DE ZARAGOZA</td>\n",
              "      <td>1</td>\n",
              "      <td>ABASOLO</td>\n",
              "      <td>2013</td>\n",
              "      <td>11</td>\n",
              "      <td>NOVIEMBRE</td>\n",
              "      <td>9</td>\n",
              "      <td>2013</td>\n",
              "      <td>11</td>\n",
              "      <td>NOVIEMBRE</td>\n",
              "      <td>23</td>\n",
              "      <td>2013</td>\n",
              "      <td>1</td>\n",
              "      <td>MUERTES MATERNAS PARA LA RAZON DE MORTALIDAD M...</td>\n",
              "    </tr>\n",
              "    <tr>\n",
              "      <th>...</th>\n",
              "      <td>...</td>\n",
              "      <td>...</td>\n",
              "      <td>...</td>\n",
              "      <td>...</td>\n",
              "      <td>...</td>\n",
              "      <td>...</td>\n",
              "      <td>...</td>\n",
              "      <td>...</td>\n",
              "      <td>...</td>\n",
              "      <td>...</td>\n",
              "      <td>...</td>\n",
              "      <td>...</td>\n",
              "      <td>...</td>\n",
              "      <td>...</td>\n",
              "      <td>...</td>\n",
              "      <td>...</td>\n",
              "      <td>...</td>\n",
              "      <td>...</td>\n",
              "      <td>...</td>\n",
              "      <td>...</td>\n",
              "      <td>...</td>\n",
              "      <td>...</td>\n",
              "      <td>...</td>\n",
              "      <td>...</td>\n",
              "      <td>...</td>\n",
              "      <td>...</td>\n",
              "      <td>...</td>\n",
              "      <td>...</td>\n",
              "      <td>...</td>\n",
              "      <td>...</td>\n",
              "      <td>...</td>\n",
              "      <td>...</td>\n",
              "      <td>...</td>\n",
              "      <td>...</td>\n",
              "      <td>...</td>\n",
              "      <td>...</td>\n",
              "    </tr>\n",
              "    <tr>\n",
              "      <th>19771</th>\n",
              "      <td>19772</td>\n",
              "      <td>12</td>\n",
              "      <td>GUERRERO</td>\n",
              "      <td>29</td>\n",
              "      <td>CHILPANCINGO DE LOS BRAVO</td>\n",
              "      <td>1</td>\n",
              "      <td>CHILPANCINGO DE LOS BRAVO</td>\n",
              "      <td>8</td>\n",
              "      <td>OTRA UNIDAD PUBLICA</td>\n",
              "      <td>2003</td>\n",
              "      <td>10</td>\n",
              "      <td>OCTUBRE</td>\n",
              "      <td>5</td>\n",
              "      <td>17</td>\n",
              "      <td>0</td>\n",
              "      <td>1</td>\n",
              "      <td>CON ATENCION MEDICA</td>\n",
              "      <td>O068</td>\n",
              "      <td>O068  ABORTO NO ESPECIFICADO COMPLETO O NO ESP...</td>\n",
              "      <td>1</td>\n",
              "      <td>MEDICO TRATANTE</td>\n",
              "      <td>12</td>\n",
              "      <td>GUERRERO</td>\n",
              "      <td>75</td>\n",
              "      <td>EDUARDO NERI</td>\n",
              "      <td>2003</td>\n",
              "      <td>10</td>\n",
              "      <td>OCTUBRE</td>\n",
              "      <td>7</td>\n",
              "      <td>0</td>\n",
              "      <td>0</td>\n",
              "      <td>NO ESPECIFICADO</td>\n",
              "      <td>0</td>\n",
              "      <td>2003</td>\n",
              "      <td>1</td>\n",
              "      <td>MUERTES MATERNAS PARA LA RAZON DE MORTALIDAD M...</td>\n",
              "    </tr>\n",
              "    <tr>\n",
              "      <th>19772</th>\n",
              "      <td>19773</td>\n",
              "      <td>12</td>\n",
              "      <td>GUERRERO</td>\n",
              "      <td>29</td>\n",
              "      <td>CHILPANCINGO DE LOS BRAVO</td>\n",
              "      <td>1</td>\n",
              "      <td>CHILPANCINGO DE LOS BRAVO</td>\n",
              "      <td>8</td>\n",
              "      <td>OTRA UNIDAD PUBLICA</td>\n",
              "      <td>2003</td>\n",
              "      <td>4</td>\n",
              "      <td>ABRIL</td>\n",
              "      <td>17</td>\n",
              "      <td>18</td>\n",
              "      <td>0</td>\n",
              "      <td>1</td>\n",
              "      <td>CON ATENCION MEDICA</td>\n",
              "      <td>O141</td>\n",
              "      <td>O141  PREECLAMPSIA SEVERA</td>\n",
              "      <td>3</td>\n",
              "      <td>OTRO MEDICO</td>\n",
              "      <td>12</td>\n",
              "      <td>GUERRERO</td>\n",
              "      <td>75</td>\n",
              "      <td>EDUARDO NERI</td>\n",
              "      <td>2003</td>\n",
              "      <td>4</td>\n",
              "      <td>ABRIL</td>\n",
              "      <td>22</td>\n",
              "      <td>0</td>\n",
              "      <td>0</td>\n",
              "      <td>NO ESPECIFICADO</td>\n",
              "      <td>0</td>\n",
              "      <td>2003</td>\n",
              "      <td>1</td>\n",
              "      <td>MUERTES MATERNAS PARA LA RAZON DE MORTALIDAD M...</td>\n",
              "    </tr>\n",
              "    <tr>\n",
              "      <th>19773</th>\n",
              "      <td>19774</td>\n",
              "      <td>12</td>\n",
              "      <td>GUERRERO</td>\n",
              "      <td>29</td>\n",
              "      <td>CHILPANCINGO DE LOS BRAVO</td>\n",
              "      <td>1</td>\n",
              "      <td>CHILPANCINGO DE LOS BRAVO</td>\n",
              "      <td>1</td>\n",
              "      <td>SECRETARIA DE SALUD</td>\n",
              "      <td>2004</td>\n",
              "      <td>10</td>\n",
              "      <td>OCTUBRE</td>\n",
              "      <td>29</td>\n",
              "      <td>9</td>\n",
              "      <td>50</td>\n",
              "      <td>1</td>\n",
              "      <td>CON ATENCION MEDICA</td>\n",
              "      <td>O85X</td>\n",
              "      <td>O85X  SEPSIS PUERPERAL</td>\n",
              "      <td>4</td>\n",
              "      <td>PERSONA AUTORIZADA POR LA SSA</td>\n",
              "      <td>12</td>\n",
              "      <td>GUERRERO</td>\n",
              "      <td>29</td>\n",
              "      <td>CHILPANCINGO DE LOS BRAVO</td>\n",
              "      <td>2004</td>\n",
              "      <td>10</td>\n",
              "      <td>OCTUBRE</td>\n",
              "      <td>29</td>\n",
              "      <td>2004</td>\n",
              "      <td>0</td>\n",
              "      <td>NO ESPECIFICADO</td>\n",
              "      <td>29</td>\n",
              "      <td>2004</td>\n",
              "      <td>1</td>\n",
              "      <td>MUERTES MATERNAS PARA LA RAZON DE MORTALIDAD M...</td>\n",
              "    </tr>\n",
              "    <tr>\n",
              "      <th>19774</th>\n",
              "      <td>19775</td>\n",
              "      <td>12</td>\n",
              "      <td>GUERRERO</td>\n",
              "      <td>29</td>\n",
              "      <td>CHILPANCINGO DE LOS BRAVO</td>\n",
              "      <td>1</td>\n",
              "      <td>CHILPANCINGO DE LOS BRAVO</td>\n",
              "      <td>1</td>\n",
              "      <td>SECRETARIA DE SALUD</td>\n",
              "      <td>2009</td>\n",
              "      <td>7</td>\n",
              "      <td>JULIO</td>\n",
              "      <td>1</td>\n",
              "      <td>12</td>\n",
              "      <td>35</td>\n",
              "      <td>1</td>\n",
              "      <td>CON ATENCION MEDICA</td>\n",
              "      <td>O141</td>\n",
              "      <td>O141  PREECLAMPSIA SEVERA</td>\n",
              "      <td>3</td>\n",
              "      <td>OTRO MEDICO</td>\n",
              "      <td>12</td>\n",
              "      <td>GUERRERO</td>\n",
              "      <td>75</td>\n",
              "      <td>EDUARDO NERI</td>\n",
              "      <td>2009</td>\n",
              "      <td>9</td>\n",
              "      <td>SEPTIEMBRE</td>\n",
              "      <td>2</td>\n",
              "      <td>2009</td>\n",
              "      <td>7</td>\n",
              "      <td>JULIO</td>\n",
              "      <td>1</td>\n",
              "      <td>2009</td>\n",
              "      <td>1</td>\n",
              "      <td>MUERTES MATERNAS PARA LA RAZON DE MORTALIDAD M...</td>\n",
              "    </tr>\n",
              "    <tr>\n",
              "      <th>19775</th>\n",
              "      <td>19776</td>\n",
              "      <td>12</td>\n",
              "      <td>GUERRERO</td>\n",
              "      <td>29</td>\n",
              "      <td>CHILPANCINGO DE LOS BRAVO</td>\n",
              "      <td>1</td>\n",
              "      <td>CHILPANCINGO DE LOS BRAVO</td>\n",
              "      <td>1</td>\n",
              "      <td>SECRETARIA DE SALUD</td>\n",
              "      <td>2016</td>\n",
              "      <td>10</td>\n",
              "      <td>OCTUBRE</td>\n",
              "      <td>14</td>\n",
              "      <td>11</td>\n",
              "      <td>10</td>\n",
              "      <td>1</td>\n",
              "      <td>CON ATENCION MEDICA</td>\n",
              "      <td>O988</td>\n",
              "      <td>O988  OTRAS ENFERMEDADES INFECCIOSAS Y PARASIT...</td>\n",
              "      <td>1</td>\n",
              "      <td>MEDICO TRATANTE</td>\n",
              "      <td>12</td>\n",
              "      <td>GUERRERO</td>\n",
              "      <td>75</td>\n",
              "      <td>EDUARDO NERI</td>\n",
              "      <td>2016</td>\n",
              "      <td>11</td>\n",
              "      <td>NOVIEMBRE</td>\n",
              "      <td>25</td>\n",
              "      <td>2016</td>\n",
              "      <td>10</td>\n",
              "      <td>OCTUBRE</td>\n",
              "      <td>14</td>\n",
              "      <td>2016</td>\n",
              "      <td>1</td>\n",
              "      <td>MUERTES MATERNAS PARA LA RAZON DE MORTALIDAD M...</td>\n",
              "    </tr>\n",
              "  </tbody>\n",
              "</table>\n",
              "<p>19776 rows × 36 columns</p>\n",
              "</div>"
            ],
            "text/plain": [
              "       IdPaciente  ...                             RazonMortalidadMaterna\n",
              "0               1  ...  MUERTES MATERNAS EXCLUIDAS PARA LA RAZON DE MO...\n",
              "1               2  ...  MUERTES MATERNAS PARA LA RAZON DE MORTALIDAD M...\n",
              "2               3  ...  MUERTES MATERNAS PARA LA RAZON DE MORTALIDAD M...\n",
              "3               4  ...  MUERTES MATERNAS PARA LA RAZON DE MORTALIDAD M...\n",
              "4               5  ...  MUERTES MATERNAS PARA LA RAZON DE MORTALIDAD M...\n",
              "...           ...  ...                                                ...\n",
              "19771       19772  ...  MUERTES MATERNAS PARA LA RAZON DE MORTALIDAD M...\n",
              "19772       19773  ...  MUERTES MATERNAS PARA LA RAZON DE MORTALIDAD M...\n",
              "19773       19774  ...  MUERTES MATERNAS PARA LA RAZON DE MORTALIDAD M...\n",
              "19774       19775  ...  MUERTES MATERNAS PARA LA RAZON DE MORTALIDAD M...\n",
              "19775       19776  ...  MUERTES MATERNAS PARA LA RAZON DE MORTALIDAD M...\n",
              "\n",
              "[19776 rows x 36 columns]"
            ]
          },
          "metadata": {},
          "execution_count": 12
        }
      ]
    },
    {
      "cell_type": "markdown",
      "metadata": {
        "id": "dR_LTWEHCnPn"
      },
      "source": [
        "### Revisar cuantas filas, columnas y tipos de datos tiene mi data set"
      ]
    },
    {
      "cell_type": "code",
      "metadata": {
        "id": "pZOSdlLiC2KV",
        "outputId": "a5918981-7426-42c1-ec29-15cd014d346f",
        "colab": {
          "base_uri": "https://localhost:8080/"
        }
      },
      "source": [
        "df.shape\n",
        "df.dtypes"
      ],
      "execution_count": 13,
      "outputs": [
        {
          "output_type": "execute_result",
          "data": {
            "text/plain": [
              "IdPaciente                   int64\n",
              "IdEntidadOcurrencia          int64\n",
              "EntidadOcurrencia           object\n",
              "IdMunicipioOcurrencia        int64\n",
              "MunicipioOcurrencia         object\n",
              "IdLocalidadOcurrencia        int64\n",
              "LocalidadOcurrencia         object\n",
              "IdSitioDefuncion             int64\n",
              "SitioDefuncion              object\n",
              "AñoDefuncion                 int64\n",
              "IdMesDefuncion               int64\n",
              "MesDefuncion                object\n",
              "DiaDefuncion                 int64\n",
              "HoraDefuncion                int64\n",
              "MinutosDefuncion             int64\n",
              "IdAsistenciaMedica           int64\n",
              "AsistenciaMedica            object\n",
              "IdCausaCIE                  object\n",
              "CausaCIE                    object\n",
              "IdCertifico                  int64\n",
              "Certifico                   object\n",
              "IdEntidadDeRegistro          int64\n",
              "EntidadDeRegistro           object\n",
              "IdMunicipioRegistro          int64\n",
              "MunicipioRegistro           object\n",
              "AñoRegistro                  int64\n",
              "IdMesRegistro                int64\n",
              "MesRegistro                 object\n",
              "IdDiaRegistro                int64\n",
              "AñoCertificacion             int64\n",
              "IdMesCertificacion           int64\n",
              "MesCertificacion            object\n",
              "DiaCertificacion             int64\n",
              "AñoBaseDeDatos               int64\n",
              "IdRazonMortalidadMaterna     int64\n",
              "RazonMortalidadMaterna      object\n",
              "dtype: object"
            ]
          },
          "metadata": {},
          "execution_count": 13
        }
      ]
    },
    {
      "cell_type": "markdown",
      "metadata": {
        "id": "4cSPgl5lCu5a"
      },
      "source": [
        "cambiar tipo de datos si es necesario https://github.com/beduExpert/B1-Procesamiento-de-Datos-con-Python-2020-2021/blob/master/Sesion-07/Ejemplo-01/casting.ipynb"
      ]
    },
    {
      "cell_type": "code",
      "metadata": {
        "id": "0eEqNe0uDw4m"
      },
      "source": [
        ""
      ],
      "execution_count": null,
      "outputs": []
    },
    {
      "cell_type": "code",
      "metadata": {
        "id": "0l2t-GQyC3e5"
      },
      "source": [
        ""
      ],
      "execution_count": null,
      "outputs": []
    },
    {
      "cell_type": "markdown",
      "metadata": {
        "id": "7_mVHW4rC1Ja"
      },
      "source": [
        "ver cuantos NaNs hay y limpiar mi base de datos, ya sea eliminando filas con nas o rellenándolas https://github.com/beduExpert/B1-Procesamiento-de-Datos-con-Python-2020-2021/blob/master/Sesion-05/Ejemplo-06/aplicacion_real.ipynb"
      ]
    },
    {
      "cell_type": "code",
      "metadata": {
        "id": "PvgKYjVVDFBV"
      },
      "source": [
        ""
      ],
      "execution_count": null,
      "outputs": []
    },
    {
      "cell_type": "markdown",
      "metadata": {
        "id": "RvT7BFoqDGVM"
      },
      "source": [
        "reindexar si es necesario https://github.com/beduExpert/B1-Procesamiento-de-Datos-con-Python-2020-2021/blob/master/Sesion-05/Ejemplo-07/reindexando_y_renombrando.ipynb"
      ]
    },
    {
      "cell_type": "code",
      "metadata": {
        "id": "XKMm0LeZDKsA"
      },
      "source": [
        ""
      ],
      "execution_count": null,
      "outputs": []
    },
    {
      "cell_type": "markdown",
      "metadata": {
        "id": "vaf1TTB_DLBe"
      },
      "source": [
        "reenombrar columnas https://github.com/beduExpert/B1-Procesamiento-de-Datos-con-Python-2020-2021/blob/master/Sesion-05/Ejemplo-07/reindexando_y_renombrando.ipynb"
      ]
    },
    {
      "cell_type": "code",
      "metadata": {
        "id": "gq10z_AODSip"
      },
      "source": [
        ""
      ],
      "execution_count": null,
      "outputs": []
    },
    {
      "cell_type": "markdown",
      "metadata": {
        "id": "_mXryMTvE_xq"
      },
      "source": [
        "Para aplicar en tu dataset lo que vimos en esta sesión, realiza las siguientes acciones:\n",
        "\n",
        "Checa que todos tus datos tengan el tipo de dato correcto. Si no es así, usa casting para convertir tus datos al tipo de dato correcto (recuerda que tipos de dato como datetime64 se guardan como strings cuando están en archivos .csv, así que tendrás que convertirlos al tipo de dato apropiado cada vez que importes tu archivo.)\n",
        "Si tienes columnas de texto, asegúrate de que todas tengan el formato correcto. Si no es así, utiliza las técnicas de manipulación de strings para darles el formato que necesitas.\n",
        "Si consideras que alguna de tus columnas sería más clara si los datos tuvieran otro formato o representación usa map para transformar los datos de esa columna.\n",
        "Si crees que es posible generar nuevas columnas útiles a partir de las columnas que ya tienes, usa apply para generar nuevos datos a partir de los que tienes y añádelos a tu dataset.\n",
        "Con el fin de responder algunas de las preguntas que te planteaste acerca de tu dataset, usa filtros y sorting para crear nuevos subconjuntos y reordenamientos que sean más adecuados para responder tus preguntas. Primero comienza intentando responder las preguntas que te planteaste al principio, pero después puedes solamente explorar para ver si encuentras otras preguntas que no te habías planteado anteriormente.\n",
        "Comparte tus dudas y hallazgos con tus compañeros y con la experta, de manera que todos puedan nutrirse mutuamente de su trabajo.\n",
        "\n",
        "https://github.com/beduExpert/B1-Procesamiento-de-Datos-con-Python-2020-2021/blob/master/Sesion-07/Postwork/Readme.md"
      ]
    },
    {
      "cell_type": "markdown",
      "metadata": {
        "id": "v5XeMaBwFDkN"
      },
      "source": [
        "merge distintas bases??? \n",
        "\n",
        "https://github.com/beduExpert/B1-Procesamiento-de-Datos-con-Python-2020-2021/blob/master/Sesion-08/Ejemplo-03/merge.ipynb"
      ]
    },
    {
      "cell_type": "code",
      "metadata": {
        "id": "DR1JwwcCHnsd"
      },
      "source": [
        ""
      ],
      "execution_count": null,
      "outputs": []
    },
    {
      "cell_type": "markdown",
      "metadata": {
        "id": "BWzHPcu9Hd5N"
      },
      "source": [
        "group by https://github.com/beduExpert/B1-Procesamiento-de-Datos-con-Python-2020-2021/blob/master/Sesion-08/Ejemplo-04/groupby.ipynb"
      ]
    },
    {
      "cell_type": "code",
      "metadata": {
        "id": "LTe5MrrDHoxg"
      },
      "source": [
        ""
      ],
      "execution_count": null,
      "outputs": []
    },
    {
      "cell_type": "markdown",
      "metadata": {
        "id": "oKvYz0d_H6AQ"
      },
      "source": [
        "formato marckdown, justificar proyecto y proyecciones a futuro \n",
        "https://github.com/beduExpert/B1-Procesamiento-de-Datos-con-Python-2020-2021/blob/master/Sesion-08/Postwork/Readme.md"
      ]
    }
  ]
}